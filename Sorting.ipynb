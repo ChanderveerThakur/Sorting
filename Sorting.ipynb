{
 "cells": [
  {
   "cell_type": "markdown",
   "id": "b5ddb2b7",
   "metadata": {},
   "source": [
    "Problem 1.Given an array of n numbers, give an algorithm which gives the element appearing maximum \n",
    "number of times?"
   ]
  },
  {
   "cell_type": "code",
   "execution_count": 14,
   "id": "353611e6",
   "metadata": {},
   "outputs": [
    {
     "data": {
      "text/plain": [
       "3"
      ]
     },
     "execution_count": 14,
     "metadata": {},
     "output_type": "execute_result"
    }
   ],
   "source": [
    "arr = [2,3,3,4,5,3,2,4,5,3]\n",
    "\n",
    "def maxappearing(arr):\n",
    "    frequency_map = {}\n",
    "    for num in arr:\n",
    "        if num in frequency_map:\n",
    "            frequency_map[num] +=1\n",
    "        else:\n",
    "            frequency_map[num] = 1\n",
    "            \n",
    "    count = 0\n",
    "    most_frequent_number = None\n",
    "    \n",
    "    for num,frequency in frequency_map.items():\n",
    "        if frequency > count:\n",
    "            count = frequency\n",
    "            most_frequent_number = num\n",
    "        \n",
    "    return most_frequent_number\n",
    "\n",
    "\n",
    "\n",
    "\n",
    "maxappearing(arr)"
   ]
  },
  {
   "cell_type": "markdown",
   "id": "81706e25",
   "metadata": {},
   "source": [
    "Problem 2 : We are given a list of n-1 integers and these integers are in the range of 1 to n . There are no \n",
    "duplicates in the list. One of the integers is missing in the list. Give an algorithm to find that element Ex: \n",
    "[1,2,4,6,3,7,8] 5 is the missing num."
   ]
  },
  {
   "cell_type": "code",
   "execution_count": 28,
   "id": "e36ff361",
   "metadata": {},
   "outputs": [
    {
     "name": "stdout",
     "output_type": "stream",
     "text": [
      "5\n"
     ]
    }
   ],
   "source": [
    "arr = [1,2,4,6,3,7,8]\n",
    "def missing_num(arr):\n",
    "    for i in range(len(arr) - 1, 0 , -1):\n",
    "        for j in range(i):\n",
    "            if arr[j] > arr[j+1]:\n",
    "                arr[j] , arr[j+1] = arr[j+1] , arr[j]\n",
    "                \n",
    "    for i in range(0 , len(arr)):\n",
    "        if i+1 != arr[i]:\n",
    "            break\n",
    "    return i+1 \n",
    "print(missing_num(arr))"
   ]
  },
  {
   "cell_type": "markdown",
   "id": "bec094f4",
   "metadata": {},
   "source": [
    "# OR"
   ]
  },
  {
   "cell_type": "code",
   "execution_count": 7,
   "id": "c06eb972",
   "metadata": {},
   "outputs": [
    {
     "name": "stdout",
     "output_type": "stream",
     "text": [
      "4\n"
     ]
    }
   ],
   "source": [
    "arr = [1,2,3,5,6]\n",
    "def missing(arr):\n",
    "    right = len(arr) - 1\n",
    "    expected_sum = arr[right] * (arr[right] + 1)//2\n",
    "    s = 0\n",
    "    for i in arr:\n",
    "        s = s + i\n",
    "    \n",
    "    return expected_sum - s\n",
    "print(missing(arr))"
   ]
  },
  {
   "cell_type": "markdown",
   "id": "3f0e8bd3",
   "metadata": {},
   "source": [
    "Problem 3 : Given an array of n positive numbers. All numbers occurs even number of times except 1 which \n",
    "occurs odd number of times. Find that number in O(n) time and O(1) space. Ex: [1,2,3,2,3,1,3]. 3 is repeats odd \n",
    "times"
   ]
  },
  {
   "cell_type": "code",
   "execution_count": 10,
   "id": "284b79e5",
   "metadata": {},
   "outputs": [
    {
     "name": "stdout",
     "output_type": "stream",
     "text": [
      "3\n"
     ]
    }
   ],
   "source": [
    "def find_odd_occurrence(arr):\n",
    "    result = 0\n",
    "\n",
    "    for num in arr:\n",
    "        result ^= num\n",
    "\n",
    "    return result\n",
    "\n",
    "arr = [1, 2, 3, 2, 3, 1, 3]\n",
    "result = find_odd_occurrence(arr)\n",
    "print(result)\n"
   ]
  },
  {
   "cell_type": "markdown",
   "id": "ade6c311",
   "metadata": {},
   "source": [
    "Problem 4 : Given an array of n elements. Find two elements in the array such that their sum is equal to given \n",
    "element K."
   ]
  },
  {
   "cell_type": "code",
   "execution_count": 30,
   "id": "d3a028bb",
   "metadata": {},
   "outputs": [
    {
     "name": "stdout",
     "output_type": "stream",
     "text": [
      "(5, 6)\n"
     ]
    }
   ],
   "source": [
    "def find_given_sum_in_array(arr,k):\n",
    "    for i in range(len(arr)):\n",
    "        for j in range(1,len(arr) ):\n",
    "            if arr[i] + arr[j] == k:\n",
    "                return arr[i], arr[j]\n",
    "            \n",
    "\n",
    "arr = [1,2,3,4,5,6]\n",
    "print(find_given_sum_in_array(arr,11))"
   ]
  },
  {
   "cell_type": "markdown",
   "id": "56818eca",
   "metadata": {},
   "source": [
    "# OR"
   ]
  },
  {
   "cell_type": "code",
   "execution_count": 40,
   "id": "5584cc30",
   "metadata": {},
   "outputs": [
    {
     "name": "stdout",
     "output_type": "stream",
     "text": [
      "(5, 6)\n"
     ]
    }
   ],
   "source": [
    "def find_given_sum_in_array(arr, k):\n",
    "    seen = set()\n",
    "\n",
    "    for num in arr:\n",
    "        complement = k - num\n",
    "\n",
    "        if complement in seen:\n",
    "            return complement, num \n",
    "\n",
    "        seen.add(num)\n",
    "\n",
    "    return None\n",
    "\n",
    "arr = [1, 2, 3, 4, 5, 6]\n",
    "print(find_given_sum_in_array(arr, 11))\n"
   ]
  },
  {
   "cell_type": "markdown",
   "id": "2075f83a",
   "metadata": {},
   "source": [
    "Problem 5 : Given an array of both positive and negative numbers, find two numbers such that their sum is \n",
    "closest to 0. Ex: [ 1 ,60 ,-10, 70, -80,85]. Ans : -80,85"
   ]
  },
  {
   "cell_type": "code",
   "execution_count": null,
   "id": "68bb550b",
   "metadata": {},
   "outputs": [],
   "source": [
    "def closest_sum_to_zero(arr):\n",
    "    n = len(arr)\n",
    "\n",
    "    if n < 2:\n",
    "        return None \n",
    "\n",
    "    arr.sort()\n",
    "\n",
    "    left, right = 0, n - 1\n",
    "    min_sum = float('inf')\n",
    "    result_pair = None\n",
    "\n",
    "    while left < right:\n",
    "        current_sum = arr[left] + arr[right]\n",
    "\n",
    "        if abs(current_sum) < abs(min_sum):\n",
    "            min_sum = current_sum\n",
    "            result_pair = (arr[left], arr[right])\n",
    "\n",
    "        if current_sum < 0:\n",
    "            left += 1\n",
    "        else:\n",
    "            right -= 1\n",
    "\n",
    "    return result_pair\n",
    "\n",
    "\n",
    "arr = [1, 60, -10, 70, -80, 85]\n",
    "closest_sum_to_zero(arr)\n",
    "\n"
   ]
  },
  {
   "cell_type": "markdown",
   "id": "0ba7c363",
   "metadata": {},
   "source": [
    "Problem 6 : Given an array of n elements . Find three elements such that their sum is equal to the given \n",
    "number."
   ]
  },
  {
   "cell_type": "code",
   "execution_count": 48,
   "id": "c5494454",
   "metadata": {},
   "outputs": [
    {
     "name": "stdout",
     "output_type": "stream",
     "text": [
      "(4, 5, 6)\n"
     ]
    }
   ],
   "source": [
    "arr = [1,2,3,4,5,6] \n",
    "def three_element_sum(arr,k):\n",
    "    for i in range(len(arr) - 2):\n",
    "        if arr[i] + arr[i+1] + arr[i+2] == k:\n",
    "            return arr[i],arr[i+1],arr[i+2]\n",
    "    \n",
    "print(three_element_sum(arr,15))\n",
    "        \n"
   ]
  },
  {
   "cell_type": "markdown",
   "id": "2ab22423",
   "metadata": {},
   "source": [
    "# OR"
   ]
  },
  {
   "cell_type": "code",
   "execution_count": 52,
   "id": "5e323efd",
   "metadata": {},
   "outputs": [
    {
     "name": "stdout",
     "output_type": "stream",
     "text": [
      "(1, 2, 3)\n"
     ]
    }
   ],
   "source": [
    "def find_given_sum_in_array(arr, k):\n",
    "    seen = set()\n",
    "\n",
    "    for i in range(len(arr) - 1):\n",
    "        complement = k - arr[i]\n",
    "        \n",
    "        complement = complement - arr[i+1]\n",
    "\n",
    "        if complement in seen:\n",
    "            return complement, arr[i] ,arr[i+1]\n",
    "\n",
    "        seen.add(arr[i])\n",
    "\n",
    "    return None\n",
    "\n",
    "arr = [1, 2, 3, 4, 5, 6]\n",
    "print(find_given_sum_in_array(arr, 6))"
   ]
  },
  {
   "cell_type": "markdown",
   "id": "4a368a03",
   "metadata": {},
   "source": [
    "Problem 7 : Given an array of n elements . Find three elements i, j, k in the array such that\n",
    "\n",
    "i * i + j * j = k*k."
   ]
  },
  {
   "cell_type": "code",
   "execution_count": 3,
   "id": "df14b0f7",
   "metadata": {},
   "outputs": [
    {
     "name": "stdout",
     "output_type": "stream",
     "text": [
      "3 4 5\n"
     ]
    }
   ],
   "source": [
    "arr = [1,2,3,4,5,6,7,8,9]\n",
    "\n",
    "for i in range(len(arr)):\n",
    "    for j in range(i+1,len(arr)):\n",
    "        for k in range(j+1,len(arr)):\n",
    "            if arr[i] * arr[i] + arr[j] * arr[j] == arr[k] * arr[k]:\n",
    "                print(arr[i],arr[j],arr[k])\n",
    "\n",
    "    "
   ]
  },
  {
   "cell_type": "markdown",
   "id": "cd89d837",
   "metadata": {},
   "source": [
    "Problem 8 : An element is a majority if it appears more than n/2 times. Give an algorithm takes an array of n \n",
    "element as argument and identifies a majority (if it exists)."
   ]
  },
  {
   "cell_type": "code",
   "execution_count": 4,
   "id": "39a8e334",
   "metadata": {},
   "outputs": [
    {
     "data": {
      "text/plain": [
       "4"
      ]
     },
     "execution_count": 4,
     "metadata": {},
     "output_type": "execute_result"
    }
   ],
   "source": [
    "def find_majority_element(nums):\n",
    "    candidate = None\n",
    "    count = 0\n",
    "\n",
    "    for num in nums:\n",
    "        if count == 0:\n",
    "            candidate = num\n",
    "            count = 1\n",
    "        elif num == candidate:\n",
    "            count += 1\n",
    "        else:\n",
    "            count -= 1\n",
    "\n",
    "    count = 0\n",
    "    for num in nums:\n",
    "        if num == candidate:\n",
    "            count += 1\n",
    "\n",
    "    if count > len(nums) // 2:\n",
    "        return candidate\n",
    "    else:\n",
    "        return None  \n",
    "\n",
    "arr = [3, 3, 4, 2, 4, 4, 2, 4, 4]\n",
    "find_majority_element(arr)\n",
    "\n"
   ]
  },
  {
   "cell_type": "markdown",
   "id": "e526a559",
   "metadata": {},
   "source": [
    "Problem 9 : Given n × n matrix, and in each row all 1’s are followed by 0’s. Find the row with the maximum \n",
    "number of 0’s."
   ]
  },
  {
   "cell_type": "code",
   "execution_count": 10,
   "id": "696f4597",
   "metadata": {},
   "outputs": [
    {
     "data": {
      "text/plain": [
       "2"
      ]
     },
     "execution_count": 10,
     "metadata": {},
     "output_type": "execute_result"
    }
   ],
   "source": [
    "def find_max_zeros_row(matrix):\n",
    "    max_zeros_row = 0\n",
    "    max_zeros_count = 0\n",
    "\n",
    "    n = len(matrix)\n",
    "\n",
    "    for i in range(n):\n",
    "        zeros_count = matrix[i].count(0)\n",
    "        \n",
    "        if zeros_count > max_zeros_count:\n",
    "            max_zeros_count = zeros_count\n",
    "            max_zeros_row = i\n",
    "\n",
    "    return max_zeros_row + 1\n",
    "\n",
    "matrix = [\n",
    "    [1, 1, 1, 0, 0],\n",
    "    [1, 1, 0, 0, 0],\n",
    "    [1, 1, 1, 1, 0],\n",
    "    [1, 1, 1, 0, 0],\n",
    "    [1, 1, 1, 1, 1]\n",
    "]\n",
    "\n",
    "find_max_zeros_row(matrix)\n",
    "\n"
   ]
  },
  {
   "cell_type": "markdown",
   "id": "20abcd3b",
   "metadata": {},
   "source": [
    "Problem 10 : Sort an array of 0’s, 1’s and 2’s [or R’s, G’s and B’s]: Given an array A[] consisting of 0’s, 1’s and \n",
    "2’s, give an algorithm for sorting A[].The algorithm should put all 0’s first, then all 1’s and finally all 2’s at the \n",
    "end. Example Input = {0,1,1,0,1,2,1,2,0,0,0,1}, Output = {0,0,0,0,0,1,1,1,1,1,2,2}"
   ]
  },
  {
   "cell_type": "code",
   "execution_count": 11,
   "id": "ff93e2d9",
   "metadata": {},
   "outputs": [
    {
     "name": "stdout",
     "output_type": "stream",
     "text": [
      "Sorted array: [0, 0, 0, 0, 0, 1, 1, 1, 1, 1, 2, 2]\n"
     ]
    }
   ],
   "source": [
    "def sort_array(arr):\n",
    "    low, mid, high = 0, 0, len(arr) - 1\n",
    "\n",
    "    while mid <= high:\n",
    "        if arr[mid] == 0:\n",
    "            arr[low], arr[mid] = arr[mid], arr[low]\n",
    "            low += 1\n",
    "            mid += 1\n",
    "        elif arr[mid] == 1:\n",
    "            mid += 1\n",
    "        else:\n",
    "            arr[mid], arr[high] = arr[high], arr[mid]\n",
    "            high -= 1\n",
    "\n",
    "arr = [0, 1, 1, 0, 1, 2, 1, 2, 0, 0, 0, 1]\n",
    "sort_array(arr)\n",
    "\n",
    "print(\"Sorted array:\", arr)\n"
   ]
  },
  {
   "cell_type": "code",
   "execution_count": null,
   "id": "a1f29742",
   "metadata": {},
   "outputs": [],
   "source": []
  }
 ],
 "metadata": {
  "kernelspec": {
   "display_name": "Python 3 (ipykernel)",
   "language": "python",
   "name": "python3"
  },
  "language_info": {
   "codemirror_mode": {
    "name": "ipython",
    "version": 3
   },
   "file_extension": ".py",
   "mimetype": "text/x-python",
   "name": "python",
   "nbconvert_exporter": "python",
   "pygments_lexer": "ipython3",
   "version": "3.10.9"
  }
 },
 "nbformat": 4,
 "nbformat_minor": 5
}
